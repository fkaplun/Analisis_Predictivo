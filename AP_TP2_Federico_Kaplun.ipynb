{
  "nbformat": 4,
  "nbformat_minor": 0,
  "metadata": {
    "colab": {
      "provenance": []
    },
    "kernelspec": {
      "name": "python3",
      "display_name": "Python 3"
    },
    "language_info": {
      "name": "python"
    }
  },
  "cells": [
    {
      "cell_type": "markdown",
      "source": [
        "Importo librerias y conecto a la base"
      ],
      "metadata": {
        "id": "ltj2xzXT6-HP"
      }
    },
    {
      "cell_type": "code",
      "execution_count": 6,
      "metadata": {
        "colab": {
          "base_uri": "https://localhost:8080/"
        },
        "id": "53ahsvQE6xJQ",
        "outputId": "ac41b93d-4e9e-4cb1-d318-1c70d0a426a1"
      },
      "outputs": [
        {
          "output_type": "stream",
          "name": "stdout",
          "text": [
            "Drive already mounted at /content/drive; to attempt to forcibly remount, call drive.mount(\"/content/drive\", force_remount=True).\n"
          ]
        }
      ],
      "source": [
        "import pandas as pd\n",
        "from google.colab import drive\n",
        "drive.mount('/content/drive')\n",
        "df = pd.read_csv('/content/drive/MyDrive/Colab Notebooks/base_train.csv')\n",
        "test_og = pd.read_csv('/content/drive/MyDrive/Colab Notebooks/base_val.csv')\n",
        "test = pd.read_csv('/content/drive/MyDrive/Colab Notebooks/base_val.csv')"
      ]
    },
    {
      "cell_type": "code",
      "source": [
        "df.info()"
      ],
      "metadata": {
        "id": "EywPnLnC8024"
      },
      "execution_count": null,
      "outputs": []
    },
    {
      "cell_type": "code",
      "source": [
        "# Obtener la lista de columnas con valores nulos\n",
        "columnas_nulas = df.columns[df.isnull().all()]\n",
        "\n",
        "# Eliminar las columnas con valores nulos\n",
        "df = df.drop(columnas_nulas, axis=1)\n",
        "\n",
        "columnas_eliminar = ['id', 'host_id', 'host_name']\n",
        "df = df.drop(columnas_eliminar, axis=1)"
      ],
      "metadata": {
        "id": "rVQ1JRqpcfuJ"
      },
      "execution_count": 8,
      "outputs": []
    },
    {
      "cell_type": "code",
      "source": [
        "#Reemplazo valores numericos nulos por la media de la columna\n",
        "# Obtener la media de cada columna numérica\n",
        "mean_bedrooms = df['bedrooms'].mean()\n",
        "mean_beds = df['beds'].mean()\n",
        "mean_scores_accuracy = df['review_scores_accuracy'].mean()\n",
        "mean_scores_cleanliness = df['review_scores_cleanliness'].mean()\n",
        "mean_scores_checkin = df['review_scores_checkin'].mean()\n",
        "mean_scores_communication = df['review_scores_communication'].mean()\n",
        "mean_scores_location = df['review_scores_location'].mean()\n",
        "mean_scores_value = df['review_scores_value'].mean()\n",
        "\n",
        "# Reemplazar los valores nulos por la media en cada columna\n",
        "df['bedrooms'].fillna(mean_bedrooms, inplace=True)\n",
        "df['beds'].fillna(mean_beds, inplace=True)\n",
        "df['review_scores_accuracy'].fillna(mean_scores_accuracy, inplace=True)\n",
        "df['review_scores_cleanliness'].fillna(mean_scores_cleanliness, inplace=True)\n",
        "df['review_scores_checkin'].fillna(mean_scores_checkin, inplace=True)\n",
        "df['review_scores_communication'].fillna(mean_scores_communication, inplace=True)\n",
        "df['review_scores_location'].fillna(mean_scores_location, inplace=True)\n",
        "df['review_scores_value'].fillna(mean_scores_value, inplace=True)"
      ],
      "metadata": {
        "id": "ZHrJRDFzgaVH"
      },
      "execution_count": 9,
      "outputs": []
    },
    {
      "cell_type": "code",
      "source": [
        "#Variables no numericas\n",
        "non_numeric_columns = df.select_dtypes(exclude=['float64', 'int64']).columns\n",
        "non_numeric_variables = list(non_numeric_columns)\n",
        "print(non_numeric_variables)"
      ],
      "metadata": {
        "colab": {
          "base_uri": "https://localhost:8080/"
        },
        "id": "zzZAZ81NgaK7",
        "outputId": "ecbcd8ad-69f1-40c7-ca94-cef131992c13"
      },
      "execution_count": 10,
      "outputs": [
        {
          "output_type": "stream",
          "name": "stdout",
          "text": [
            "['source', 'name', 'description', 'neighborhood_overview', 'host_since', 'host_location', 'host_about', 'host_response_time', 'host_response_rate', 'host_acceptance_rate', 'host_is_superhost', 'host_neighbourhood', 'host_verifications', 'host_has_profile_pic', 'host_identity_verified', 'neighbourhood', 'neighbourhood_cleansed', 'property_type', 'room_type', 'bathrooms_text', 'amenities', 'price', 'has_availability', 'calendar_last_scraped', 'first_review', 'last_review', 'license', 'instant_bookable']\n"
          ]
        }
      ]
    },
    {
      "cell_type": "code",
      "source": [
        "#elimino license\n",
        "df = df.drop('license', axis=1)"
      ],
      "metadata": {
        "id": "o4x1iJIGrWyv"
      },
      "execution_count": 11,
      "outputs": []
    },
    {
      "cell_type": "code",
      "source": [
        "boolean_variables = ['host_is_superhost', 'host_has_profile_pic', 'host_identity_verified', 'has_availability', 'instant_bookable']\n",
        "\n",
        "# Definir función para reemplazar los valores booleanos\n",
        "def map_boolean_values(value):\n",
        "    if value == 't':\n",
        "        return 1\n",
        "    elif value == 'f':\n",
        "        return 0\n",
        "    else:\n",
        "        return value\n",
        "\n",
        "# Iterar sobre las variables booleanas y aplicar la función de mapeo\n",
        "for variable in boolean_variables:\n",
        "    df[variable] = df[variable].map(map_boolean_values)\n",
        "\n",
        "df['host_is_superhost'].fillna(1, inplace=True)\n",
        "\n",
        "# Imprimir el dataframe actualizado\n"
      ],
      "metadata": {
        "id": "R0VwhDtPlUsX"
      },
      "execution_count": 12,
      "outputs": []
    },
    {
      "cell_type": "code",
      "source": [
        "#Variables no numericas\n",
        "non_numeric_columns = df.select_dtypes(exclude=['float64', 'int64']).columns\n",
        "non_numeric_variables = list(non_numeric_columns)\n",
        "print(non_numeric_variables)\n",
        "\n",
        "#city scrape trato como booleano\n",
        "df['source'] = df['source'].map({'city scrape': 0, 'previous scrape': 1})"
      ],
      "metadata": {
        "colab": {
          "base_uri": "https://localhost:8080/"
        },
        "id": "j7A1NwP6nvWr",
        "outputId": "c19d296b-b3dc-453c-e914-8ca10ead3a0e"
      },
      "execution_count": 13,
      "outputs": [
        {
          "output_type": "stream",
          "name": "stdout",
          "text": [
            "['source', 'name', 'description', 'neighborhood_overview', 'host_since', 'host_location', 'host_about', 'host_response_time', 'host_response_rate', 'host_acceptance_rate', 'host_neighbourhood', 'host_verifications', 'neighbourhood', 'neighbourhood_cleansed', 'property_type', 'room_type', 'bathrooms_text', 'amenities', 'price', 'calendar_last_scraped', 'first_review', 'last_review']\n"
          ]
        }
      ]
    },
    {
      "cell_type": "code",
      "source": [
        "#Para fechas\n",
        "\n",
        "date_columns = ['host_since', 'calendar_last_scraped', 'first_review', 'last_review']\n",
        "\n",
        "# Obtener el valor mínimo de todas las fechas presentes en las columnas\n",
        "min_date = pd.to_datetime(df[date_columns].min()).min()\n",
        "\n",
        "# Recorrer las columnas y transformar las fechas en valores numéricos\n",
        "for column in date_columns:\n",
        "    df[column] = (pd.to_datetime(df[column]) - min_date).dt.days + 1\n",
        "\n",
        "# Verificar el resultado\n",
        "print(df[date_columns])\n"
      ],
      "metadata": {
        "colab": {
          "base_uri": "https://localhost:8080/"
        },
        "id": "yWCrCgynpeWw",
        "outputId": "273b7ef5-92aa-412f-f4ca-9a5ad4f4387e"
      },
      "execution_count": 14,
      "outputs": [
        {
          "output_type": "stream",
          "name": "stdout",
          "text": [
            "      host_since  calendar_last_scraped  first_review  last_review\n",
            "0           1356                   5186          2935         5179\n",
            "1              1                   5186           188         5157\n",
            "2            435                   5186           525         4216\n",
            "3            546                   5186          1203         5178\n",
            "4            597                   5186           698         5171\n",
            "...          ...                    ...           ...          ...\n",
            "4923        2225                   5186          5032         5137\n",
            "4924        2679                   5186          4933         5142\n",
            "4925        4900                   5186          5164         5164\n",
            "4926        3588                   5186          4953         5028\n",
            "4927        2242                   5186          4965         5073\n",
            "\n",
            "[4928 rows x 4 columns]\n"
          ]
        }
      ]
    },
    {
      "cell_type": "code",
      "source": [
        "#Variables no numericas\n",
        "non_numeric_columns = df.select_dtypes(exclude=['float64', 'int64']).columns\n",
        "non_numeric_variables = list(non_numeric_columns)\n",
        "print(non_numeric_variables)"
      ],
      "metadata": {
        "colab": {
          "base_uri": "https://localhost:8080/"
        },
        "id": "jA8eIRBdpzEy",
        "outputId": "7bd51448-7992-4558-eaa2-c13997c72f0b"
      },
      "execution_count": 15,
      "outputs": [
        {
          "output_type": "stream",
          "name": "stdout",
          "text": [
            "['name', 'description', 'neighborhood_overview', 'host_location', 'host_about', 'host_response_time', 'host_response_rate', 'host_acceptance_rate', 'host_neighbourhood', 'host_verifications', 'neighbourhood', 'neighbourhood_cleansed', 'property_type', 'room_type', 'bathrooms_text', 'amenities', 'price']\n"
          ]
        }
      ]
    },
    {
      "cell_type": "code",
      "source": [
        "#price a numero\n",
        "df['price'] = df['price'].replace({'\\$': '', ',': ''}, regex=True).astype(float)"
      ],
      "metadata": {
        "id": "y9mr3z_xsP-V"
      },
      "execution_count": 16,
      "outputs": []
    },
    {
      "cell_type": "code",
      "source": [
        "#cuento palabras de variables\n",
        "import re\n",
        "\n",
        "text_columns = ['name', 'description', 'neighborhood_overview', 'host_about', 'amenities', 'host_verifications']\n",
        "\n",
        "for column in text_columns:\n",
        "    df[column] = df[column].apply(lambda x: len(re.findall(r'\\b\\w+\\b', x.lower())) if isinstance(x, str) else 0)"
      ],
      "metadata": {
        "id": "O4fmVZKItIKb"
      },
      "execution_count": 17,
      "outputs": []
    },
    {
      "cell_type": "code",
      "source": [
        "#varaibles categoricas\n",
        "categorical_columns = ['room_type', 'property_type', 'neighbourhood_cleansed', 'host_neighbourhood', 'host_location', 'host_response_time', 'neighbourhood']\n",
        "\n",
        "for column in categorical_columns:\n",
        "    df[column] = pd.factorize(df[column])[0]"
      ],
      "metadata": {
        "id": "2rrpneb_tYPd"
      },
      "execution_count": 18,
      "outputs": []
    },
    {
      "cell_type": "code",
      "source": [
        "#Porcentajes y baños\n",
        "import re\n",
        "import numpy as np\n",
        "\n",
        "columns_to_transform = ['host_response_rate', 'host_acceptance_rate', 'bathrooms_text']\n",
        "\n",
        "for column in columns_to_transform:\n",
        "    df[column] = df[column].astype(str).str.replace(r'[^0-9.]', '')\n",
        "    df[column] = df[column].replace('', np.nan).astype(float)\n",
        "    df[column] = df[column].fillna(0)\n",
        "df.info()"
      ],
      "metadata": {
        "id": "4sDygUd_v3sm"
      },
      "execution_count": null,
      "outputs": []
    },
    {
      "cell_type": "code",
      "source": [
        "from sklearn.model_selection import train_test_split, RandomizedSearchCV\n",
        "from sklearn.metrics import r2_score\n",
        "from sklearn.ensemble import RandomForestRegressor, ExtraTreesRegressor\n",
        "from sklearn.linear_model import LinearRegression\n",
        "from xgboost import XGBRegressor\n",
        "from catboost import CatBoostRegressor\n",
        "from lightgbm import LGBMRegressor\n",
        "from sklearn.tree import DecisionTreeRegressor\n",
        "from sklearn.ensemble import AdaBoostRegressor\n",
        "from sklearn.svm import SVR\n",
        "\n",
        "# Separar características (X) y variable objetivo (y)\n",
        "X = df.drop('review_scores_rating', axis=1)\n",
        "y = df['review_scores_rating']\n",
        "\n",
        "# Dividir el conjunto de datos en entrenamiento y prueba\n",
        "X_train, X_test, y_train, y_test = train_test_split(X, y, test_size=0.2, random_state=52)\n",
        "\n",
        "# Definir los modelos y los respectivos rangos de hiperparámetros\n",
        "models = {\n",
        "    'XGBRegressor': (XGBRegressor(), {'n_estimators': [100, 200, 300], 'max_depth': [3, 5, 7]}),\n",
        "    'LinearRegression': (LinearRegression(), {'fit_intercept': [True, False]}),\n",
        "    'ExtraTreesRegressor': (ExtraTreesRegressor(), {'n_estimators': [100, 200, 300], 'max_depth': [3, 5, 7]}),\n",
        "    'RandomForestRegressor': (RandomForestRegressor(), {'n_estimators': [100, 200, 300, 400], 'max_depth': [3, 5, 7,9]}),\n",
        "    'CatBoostRegressor': (CatBoostRegressor(), {'iterations': [100, 200, 300], 'depth': [3, 5, 7]}),\n",
        "    'LGBMRegressor': (LGBMRegressor(), {'n_estimators': [100, 200, 300], 'max_depth': [3, 5, 7]}),\n",
        "    'DecisionTreeRegressor': (DecisionTreeRegressor(), {'max_depth': [3, 5, 7], 'min_samples_leaf': [1, 2, 3]}),\n",
        "    'AdaBoostRegressor': (AdaBoostRegressor(), {'n_estimators': [50, 100, 150], 'learning_rate': [0.1, 0.5, 1.0]}),\n",
        "    'SVR': (SVR(), {'C': [1.0, 2.0, 3.0], 'epsilon': [0.1, 0.2, 0.3]})\n",
        "}\n",
        "\n",
        "results = {}\n",
        "for model_name, (model, param_grid) in models.items():\n",
        "    random_search = RandomizedSearchCV(model, param_grid, scoring='r2', cv=5, n_iter=10, random_state=2)\n",
        "    random_search.fit(X_train, y_train)\n",
        "    y_pred = random_search.predict(X_test)\n",
        "    r2 = r2_score(y_test, y_pred)\n",
        "    results[model_name] = {'R2': r2, 'Best Parameters': random_search.best_params_}\n",
        "\n",
        "# Mostrar los resultados\n",
        "for model_name, result in results.items():\n",
        "    print(model_name)\n",
        "    print('R2:', result['R2'])\n",
        "    print('Best Parameters:', result['Best Parameters'])\n",
        "    print()"
      ],
      "metadata": {
        "id": "CZwwiGcIyX_B"
      },
      "execution_count": null,
      "outputs": []
    },
    {
      "cell_type": "code",
      "source": [
        "#feature analysis para random forest regressor\n",
        "import matplotlib.pyplot as plt\n",
        "from sklearn.model_selection import train_test_split, RandomizedSearchCV\n",
        "from sklearn.metrics import r2_score\n",
        "from sklearn.ensemble import RandomForestRegressor, ExtraTreesRegressor\n",
        "from xgboost import XGBRegressor\n",
        "from lightgbm import LGBMRegressor\n",
        "from sklearn.tree import DecisionTreeRegressor\n",
        "from sklearn.ensemble import AdaBoostRegressor\n",
        "\n",
        "# Separar características (X) y variable objetivo (y)\n",
        "X = df.drop('review_scores_rating', axis=1)\n",
        "y = df['review_scores_rating']\n",
        "\n",
        "# Dividir el conjunto de datos en entrenamiento y prueba\n",
        "X_train, X_test, y_train, y_test = train_test_split(X, y, test_size=0.2, random_state=52)\n",
        "\n",
        "# Definir los modelos y los respectivos rangos de hiperparámetros\n",
        "models = {\n",
        "    'RandomForestRegressor': (RandomForestRegressor(), {'n_estimators': [100, 200, 300, 400], 'max_depth': [3, 5, 7,9]}),\n",
        "}\n",
        "\n",
        "results = {}\n",
        "for model_name, (model, param_grid) in models.items():\n",
        "    if model_name != 'LinearRegression':\n",
        "        random_search = RandomizedSearchCV(model, param_grid, scoring='r2', cv=5, n_iter=10, random_state=2)\n",
        "        random_search.fit(X_train, y_train)\n",
        "        y_pred = random_search.predict(X_test)\n",
        "        r2 = r2_score(y_test, y_pred)\n",
        "        feature_importance = random_search.best_estimator_.feature_importances_\n",
        "\n",
        "        # Gráfico de feature importance\n",
        "        plt.figure(figsize=(8, 6))\n",
        "        plt.bar(X.columns, feature_importance)\n",
        "        plt.xlabel('Features')\n",
        "        plt.ylabel('Importance')\n",
        "        plt.title(f'Feature Importance - {model_name}')\n",
        "        plt.xticks(rotation=90)\n",
        "        plt.tight_layout()\n",
        "        plt.show()\n",
        "\n",
        "        results[model_name] = {'R2': r2, 'Best Parameters': random_search.best_params_}\n",
        "\n",
        "# Mostrar los resultados\n",
        "for model_name, result in results.items():\n",
        "    print(model_name)\n",
        "    print('R2:', result['R2'])\n",
        "    print('Best Parameters:', result['Best Parameters'])\n",
        "    print()"
      ],
      "metadata": {
        "colab": {
          "base_uri": "https://localhost:8080/",
          "height": 678
        },
        "id": "IIY92kf1lsOP",
        "outputId": "1e25c320-e777-4995-bc01-8026ee3efa82"
      },
      "execution_count": 23,
      "outputs": [
        {
          "output_type": "display_data",
          "data": {
            "text/plain": [
              "<Figure size 800x600 with 1 Axes>"
            ],
            "image/png": "[encoded data removed]"
          },
          "metadata": {}
        },
        {
          "output_type": "stream",
          "name": "stdout",
          "text": [
            "RandomForestRegressor\n",
            "R2: 0.8088950442157852\n",
            "Best Parameters: {'n_estimators': 200, 'max_depth': 7}\n",
            "\n"
          ]
        }
      ]
    },
    {
      "cell_type": "code",
      "source": [
        "#Edicion de variables para correr de nuevo RFR\n",
        "\n",
        "# Lista de columnas deseadas\n",
        "columns = ['number_of_reviews', 'review_scores_accuracy', 'review_scores_cleanliness',\n",
        "           'review_scores_checkin', 'review_scores_communication', 'review_scores_value',\n",
        "           'calculated_host_listings_count', 'reviews_per_month']\n",
        "\n",
        "# Crear el nuevo DataFrame con las columnas seleccionadas\n",
        "df_RFR = df.loc[:, columns]"
      ],
      "metadata": {
        "id": "NdRoRwb-tYMf"
      },
      "execution_count": 24,
      "outputs": []
    },
    {
      "cell_type": "code",
      "source": [
        "#Corremos Random forest regressor solo con las variables pertinentes, y usamos gridsearch para determinar los mejores hiperparametros a utilizar\n",
        "from sklearn.model_selection import GridSearchCV\n",
        "from sklearn.ensemble import RandomForestRegressor\n",
        "\n",
        "# Separar características (X) y variable objetivo (y)\n",
        "X = df_RFR\n",
        "y = df['review_scores_rating']\n",
        "\n",
        "# Definir los hiperparámetros a probar en GridSearchCV\n",
        "param_grid = {\n",
        "    'n_estimators': [100, 200, 300],\n",
        "    'max_depth': [0, 3, 5, 7, 9],\n",
        "    'min_samples_leaf': [1, 2, 3]\n",
        "}\n",
        "\n",
        "# Crear el modelo Random Forest Regressor\n",
        "model = RandomForestRegressor()\n",
        "\n",
        "# Realizar la búsqueda de hiperparámetros utilizando GridSearchCV\n",
        "grid_search = GridSearchCV(model, param_grid, scoring='r2', cv=5)\n",
        "grid_search.fit(X, y)\n",
        "\n",
        "# Obtener los resultados del GridSearchCV\n",
        "best_r2 = grid_search.best_score_\n",
        "best_params = grid_search.best_params_\n",
        "\n",
        "# Imprimir el mejor resultado de R2 y los mejores hiperparámetros\n",
        "print(\"Mejor R2 obtenido:\", best_r2)\n",
        "print(\"Mejores hiperparámetros:\", best_params)\n"
      ],
      "metadata": {
        "id": "jugjolIouYyu"
      },
      "execution_count": null,
      "outputs": []
    },
    {
      "cell_type": "markdown",
      "source": [
        "Modelo con GridSearchCV (no usado)"
      ],
      "metadata": {
        "id": "x6qNc0AC2ABs"
      }
    },
    {
      "cell_type": "code",
      "source": [
        "'''import pandas as pd\n",
        "from sklearn.model_selection import train_test_split, GridSearchCV\n",
        "from sklearn.metrics import r2_score\n",
        "from sklearn.linear_model import LinearRegression\n",
        "from sklearn.ensemble import RandomForestRegressor, ExtraTreesRegressor, AdaBoostRegressor\n",
        "from xgboost import XGBRegressor\n",
        "from catboost import CatBoostRegressor\n",
        "from lightgbm import LGBMRegressor\n",
        "from sklearn.tree import DecisionTreeRegressor\n",
        "from sklearn.svm import SVR\n",
        "\n",
        "# Reemplazar los valores NaN por 0\n",
        "df.fillna(0, inplace=True)\n",
        "\n",
        "# Separar características (X) y variable objetivo (y)\n",
        "X = df.drop('review_scores_rating', axis=1)\n",
        "y = df['review_scores_rating']\n",
        "\n",
        "# Dividir el conjunto de datos en entrenamiento y prueba\n",
        "X_train, X_test, y_train, y_test = train_test_split(X, y, test_size=0.2, random_state=42)\n",
        "\n",
        "# Definir los modelos a utilizar con sus respectivos hiperparámetros\n",
        "models = {\n",
        "    'XGBRegressor': (XGBRegressor(), {\n",
        "        'objective': ['reg:squarederror'],\n",
        "        'n_estimators': [100, 200, 300],\n",
        "        'learning_rate': [0.1, 0.01, 0.001]\n",
        "    }),\n",
        "    'LinearRegression': (LinearRegression(), {\n",
        "        'fit_intercept': [True, False]\n",
        "    }),\n",
        "    'ExtraTreesRegressor': (ExtraTreesRegressor(), {\n",
        "        'n_estimators': [100, 200, 300],\n",
        "        'max_depth': [None, 5, 10],\n",
        "        'min_samples_split': [2, 5, 10]\n",
        "    }),\n",
        "    'RandomForestRegressor': (RandomForestRegressor(), {\n",
        "        'n_estimators': [100, 200, 300],\n",
        "        'max_depth': [None, 5, 10],\n",
        "        'min_samples_split': [2, 5, 10]\n",
        "    }),\n",
        "    'CatBoostRegressor': (CatBoostRegressor(), {\n",
        "        'iterations': [100, 200, 300],\n",
        "        'learning_rate': [0.1, 0.01, 0.001]\n",
        "    }),\n",
        "    'LGBMRegressor': (LGBMRegressor(), {\n",
        "        'n_estimators': [100, 200, 300],\n",
        "        'learning_rate': [0.1, 0.01, 0.001],\n",
        "        'max_depth': [-1, 5, 10]\n",
        "    }),\n",
        "    'DecisionTreeRegressor': (DecisionTreeRegressor(), {\n",
        "        'max_depth': [None, 5, 10],\n",
        "        'min_samples_split': [2, 5, 10]\n",
        "    }),\n",
        "    'AdaBoostRegressor': (AdaBoostRegressor(), {\n",
        "        'n_estimators': [50, 100, 200],\n",
        "        'learning_rate': [0.1, 0.01, 0.001]\n",
        "    }),\n",
        "    'SVR': (SVR(), {\n",
        "        'C': [1, 10, 100],\n",
        "        'kernel': ['linear', 'rbf', 'poly']\n",
        "    })\n",
        "}\n",
        "\n",
        "# Realizar la búsqueda de hiperparámetros para cada modelo\n",
        "results = {}\n",
        "for model_name, (model, param_grid) in models.items():\n",
        "    grid_search = GridSearchCV(model, param_grid, scoring='r2', cv=5)\n",
        "    grid_search.fit(X_train, y_train)\n",
        "    y_pred = grid_search.predict(X_test)\n",
        "    r2 = r2_score(y_test, y_pred)\n",
        "    results[model_name] = {\n",
        "        'R2': r2,\n",
        "        'Best params': grid_search.best_params_\n",
        "    }\n",
        "\n",
        "# Imprimir los resultados\n",
        "for model_name, result in results.items():\n",
        "    print(model_name)\n",
        "    print(f\"R2: {result['R2']}\")\n",
        "    print(f\"Hiperparámetros utilizados: {result['Best params']}\")\n",
        "    print()\n",
        "'''"
      ],
      "metadata": {
        "id": "9R6e3Bj9SWlD"
      },
      "execution_count": null,
      "outputs": []
    },
    {
      "cell_type": "markdown",
      "source": [
        "Preparamos la tabla Test"
      ],
      "metadata": {
        "id": "LPcx4RP82eBx"
      }
    },
    {
      "cell_type": "code",
      "source": [
        "# Obtener la lista de columnas con valores nulos\n",
        "columnas_nulas = test.columns[test.isnull().all()]\n",
        "\n",
        "# Eliminar las columnas con valores nulos\n",
        "test = test.drop(columnas_nulas, axis=1)\n",
        "\n",
        "columnas_eliminar = ['id', 'host_id', 'host_name']\n",
        "test = test.drop(columnas_eliminar, axis=1)"
      ],
      "metadata": {
        "id": "q4iI3oqH2Mqc"
      },
      "execution_count": 138,
      "outputs": []
    },
    {
      "cell_type": "code",
      "source": [
        "#Reemplazo valores numericos nulos por la media de la columna\n",
        "# Obtener la media de cada columna numérica\n",
        "mean_bedrooms = test['bedrooms'].mean()\n",
        "mean_beds = test['beds'].mean()\n",
        "mean_scores_accuracy = test['review_scores_accuracy'].mean()\n",
        "mean_scores_cleanliness = test['review_scores_cleanliness'].mean()\n",
        "mean_scores_checkin = test['review_scores_checkin'].mean()\n",
        "mean_scores_communication = test['review_scores_communication'].mean()\n",
        "mean_scores_location = test['review_scores_location'].mean()\n",
        "mean_scores_value = test['review_scores_value'].mean()\n",
        "\n",
        "# Reemplazar los valores nulos por la media en cada columna\n",
        "test['bedrooms'].fillna(mean_bedrooms, inplace=True)\n",
        "test['beds'].fillna(mean_beds, inplace=True)\n",
        "test['review_scores_accuracy'].fillna(mean_scores_accuracy, inplace=True)\n",
        "test['review_scores_cleanliness'].fillna(mean_scores_cleanliness, inplace=True)\n",
        "test['review_scores_checkin'].fillna(mean_scores_checkin, inplace=True)\n",
        "test['review_scores_communication'].fillna(mean_scores_communication, inplace=True)\n",
        "test['review_scores_location'].fillna(mean_scores_location, inplace=True)\n",
        "test['review_scores_value'].fillna(mean_scores_value, inplace=True)"
      ],
      "metadata": {
        "id": "RHOn9nXZ4cPg"
      },
      "execution_count": 139,
      "outputs": []
    },
    {
      "cell_type": "code",
      "source": [
        "#Variables no numericas\n",
        "non_numeric_columns = test.select_dtypes(exclude=['float64', 'int64']).columns\n",
        "non_numeric_variables = list(non_numeric_columns)\n",
        "print(non_numeric_variables)"
      ],
      "metadata": {
        "colab": {
          "base_uri": "https://localhost:8080/"
        },
        "id": "MssI-RqR4cPu",
        "outputId": "a3adf5a4-74a3-4d54-d528-bee2b38e3e05"
      },
      "execution_count": 140,
      "outputs": [
        {
          "output_type": "stream",
          "name": "stdout",
          "text": [
            "['source', 'name', 'description', 'neighborhood_overview', 'host_since', 'host_location', 'host_about', 'host_response_time', 'host_response_rate', 'host_acceptance_rate', 'host_is_superhost', 'host_neighbourhood', 'host_verifications', 'host_has_profile_pic', 'host_identity_verified', 'neighbourhood', 'neighbourhood_cleansed', 'property_type', 'room_type', 'bathrooms_text', 'amenities', 'price', 'has_availability', 'calendar_last_scraped', 'first_review', 'last_review', 'license', 'instant_bookable']\n"
          ]
        }
      ]
    },
    {
      "cell_type": "code",
      "source": [
        "#elimino license\n",
        "test = test.drop('license', axis=1)"
      ],
      "metadata": {
        "id": "Ja9E9vGa4cPu"
      },
      "execution_count": 141,
      "outputs": []
    },
    {
      "cell_type": "code",
      "source": [
        "boolean_variables = ['host_is_superhost', 'host_has_profile_pic', 'host_identity_verified', 'has_availability', 'instant_bookable']\n",
        "\n",
        "# Definir función para reemplazar los valores booleanos\n",
        "def map_boolean_values(value):\n",
        "    if value == 't':\n",
        "        return 1\n",
        "    elif value == 'f':\n",
        "        return 0\n",
        "    else:\n",
        "        return value\n",
        "\n",
        "# Iterar sobre las variables booleanas y aplicar la función de mapeo\n",
        "for variable in boolean_variables:\n",
        "    test[variable] = test[variable].map(map_boolean_values)\n",
        "\n",
        "test['host_is_superhost'].fillna(1, inplace=True)"
      ],
      "metadata": {
        "id": "dP9XU0G_4cPv"
      },
      "execution_count": 142,
      "outputs": []
    },
    {
      "cell_type": "code",
      "source": [
        "#Variables no numericas\n",
        "non_numeric_columns = test.select_dtypes(exclude=['float64', 'int64']).columns\n",
        "non_numeric_variables = list(non_numeric_columns)\n",
        "print(non_numeric_variables)\n",
        "\n",
        "#city scrape trato como booleano\n",
        "test['source'] = test['source'].map({'city scrape': 0, 'previous scrape': 1})"
      ],
      "metadata": {
        "colab": {
          "base_uri": "https://localhost:8080/"
        },
        "id": "rCL0EkHh4cPv",
        "outputId": "1757e12b-5443-486a-faf3-2c8af12d4d86"
      },
      "execution_count": 143,
      "outputs": [
        {
          "output_type": "stream",
          "name": "stdout",
          "text": [
            "['source', 'name', 'description', 'neighborhood_overview', 'host_since', 'host_location', 'host_about', 'host_response_time', 'host_response_rate', 'host_acceptance_rate', 'host_neighbourhood', 'host_verifications', 'neighbourhood', 'neighbourhood_cleansed', 'property_type', 'room_type', 'bathrooms_text', 'amenities', 'price', 'calendar_last_scraped', 'first_review', 'last_review']\n"
          ]
        }
      ]
    },
    {
      "cell_type": "code",
      "source": [
        "#Para fechas\n",
        "\n",
        "date_columns = ['host_since', 'calendar_last_scraped', 'first_review', 'last_review']\n",
        "\n",
        "# Obtener el valor mínimo de todas las fechas presentes en las columnas\n",
        "min_date = pd.to_datetime(test[date_columns].min()).min()\n",
        "\n",
        "# Recorrer las columnas y transformar las fechas en valores numéricos\n",
        "for column in date_columns:\n",
        "    test[column] = (pd.to_datetime(test[column]) - min_date).dt.days + 1\n",
        "\n",
        "# Verificar el resultado\n",
        "print(test[date_columns])\n"
      ],
      "metadata": {
        "id": "k-BBTGh54cPw"
      },
      "execution_count": null,
      "outputs": []
    },
    {
      "cell_type": "code",
      "source": [
        "#Variables no numericas\n",
        "non_numeric_columns = test.select_dtypes(exclude=['float64', 'int64']).columns\n",
        "non_numeric_variables = list(non_numeric_columns)\n",
        "print(non_numeric_variables)"
      ],
      "metadata": {
        "colab": {
          "base_uri": "https://localhost:8080/"
        },
        "id": "208JN4ia4cPw",
        "outputId": "63639390-36d2-4b48-d5ea-87937533d3aa"
      },
      "execution_count": 145,
      "outputs": [
        {
          "output_type": "stream",
          "name": "stdout",
          "text": [
            "['name', 'description', 'neighborhood_overview', 'host_location', 'host_about', 'host_response_time', 'host_response_rate', 'host_acceptance_rate', 'host_neighbourhood', 'host_verifications', 'neighbourhood', 'neighbourhood_cleansed', 'property_type', 'room_type', 'bathrooms_text', 'amenities', 'price']\n"
          ]
        }
      ]
    },
    {
      "cell_type": "code",
      "source": [
        "#price a numero\n",
        "test['price'] = test['price'].replace({'\\$': '', ',': ''}, regex=True).astype(float)"
      ],
      "metadata": {
        "id": "btWZRsqT4cPw"
      },
      "execution_count": 146,
      "outputs": []
    },
    {
      "cell_type": "code",
      "source": [
        "#cuento palabras de variables\n",
        "import re\n",
        "\n",
        "text_columns = ['name', 'description', 'neighborhood_overview', 'host_about', 'amenities', 'host_verifications']\n",
        "\n",
        "for column in text_columns:\n",
        "    test[column] = test[column].apply(lambda x: len(re.findall(r'\\b\\w+\\b', x.lower())) if isinstance(x, str) else 0)"
      ],
      "metadata": {
        "id": "b9rfqWFp4cPw"
      },
      "execution_count": 147,
      "outputs": []
    },
    {
      "cell_type": "code",
      "source": [
        "#varaibles categoricas\n",
        "categorical_columns = ['room_type', 'property_type', 'neighbourhood_cleansed', 'host_neighbourhood', 'host_location', 'host_response_time', 'neighbourhood']\n",
        "\n",
        "for column in categorical_columns:\n",
        "    test[column] = pd.factorize(test[column])[0]"
      ],
      "metadata": {
        "id": "yoSBtI-g4cPw"
      },
      "execution_count": 148,
      "outputs": []
    },
    {
      "cell_type": "code",
      "source": [
        "#Porcentajes y baños\n",
        "import re\n",
        "import numpy as np\n",
        "\n",
        "columns_to_transform = ['host_response_rate', 'host_acceptance_rate', 'bathrooms_text']\n",
        "\n",
        "for column in columns_to_transform:\n",
        "    test[column] = test[column].astype(str).str.replace(r'[^0-9.]', '')\n",
        "    test[column] = test[column].replace('', np.nan).astype(float)\n",
        "    test[column] = test[column].fillna(0)\n",
        "test.info()"
      ],
      "metadata": {
        "id": "NN6Byxmm4cPw"
      },
      "execution_count": null,
      "outputs": []
    },
    {
      "cell_type": "code",
      "source": [
        "from sklearn.ensemble import RandomForestRegressor\n",
        "import pandas as pd\n",
        "from google.colab import files\n",
        "\n",
        "# Entrenar el modelo con los mejores hiperparámetros\n",
        "model = RandomForestRegressor(bootstrap=True, ccp_alpha=0.0, criterion='squared_error',\n",
        "                              max_depth=None, max_features=1.0, max_leaf_nodes=None,\n",
        "                              max_samples=None, min_impurity_decrease=0.0, min_samples_leaf=1,\n",
        "                              min_samples_split=2, min_weight_fraction_leaf=0.0, n_estimators=100,\n",
        "                              n_jobs=None, oob_score=False, random_state=None, verbose=0,\n",
        "                              warm_start=False)\n",
        "model.fit(X, y)\n",
        "\n",
        "review_scores_rating = model.predict(test)\n",
        "\n",
        "# Crear el archivo csv con las columnas 'id' y 'review_scores_rating'\n",
        "predicciones_finales = pd.DataFrame({'id': test_og['id'], 'review_scores_rating': review_scores_rating})\n",
        "\n",
        "# Contar registros nulos\n",
        "registros_nulos = predicciones_finales['review_scores_rating'].isnull().sum()\n",
        "print(\"Cantidad de registros nulos: \", registros_nulos)\n",
        "\n",
        "# Filtrar los review_scores_rating que están fuera del rango de 0 a 5\n",
        "valores_fuera_de_rango = predicciones_finales[(predicciones_finales['review_scores_rating'] < 0) | (predicciones_finales['review_scores_rating'] > 5)]\n",
        "print(\"Cantidad de valores fuera de rango: \", len(valores_fuera_de_rango))\n",
        "\n",
        "# Guardar el DataFrame resultante en un archivo CSV\n",
        "predicciones_finales.to_csv('predicciones_finales.csv', index=False)\n",
        "\n",
        "# Descargar el archivo CSV\n",
        "files.download('predicciones_finales.csv')\n",
        "\n"
      ],
      "metadata": {
        "colab": {
          "base_uri": "https://localhost:8080/",
          "height": 53
        },
        "id": "eLYHK3l_4-Ee",
        "outputId": "33b032ce-b7d6-48ba-d400-dfc772fda7c1"
      },
      "execution_count": 150,
      "outputs": [
        {
          "output_type": "stream",
          "name": "stdout",
          "text": [
            "Cantidad de registros nulos:  0\n",
            "Cantidad de valores fuera de rango:  0\n"
          ]
        },
        {
          "output_type": "display_data",
          "data": {
            "text/plain": [
              "<IPython.core.display.Javascript object>"
            ],
            "application/javascript": [
              "\n",
              "    async function download(id, filename, size) {\n",
              "      if (!google.colab.kernel.accessAllowed) {\n",
              "        return;\n",
              "      }\n",
              "      const div = document.createElement('div');\n",
              "      const label = document.createElement('label');\n",
              "      label.textContent = `Downloading \"${filename}\": `;\n",
              "      div.appendChild(label);\n",
              "      const progress = document.createElement('progress');\n",
              "      progress.max = size;\n",
              "      div.appendChild(progress);\n",
              "      document.body.appendChild(div);\n",
              "\n",
              "      const buffers = [];\n",
              "      let downloaded = 0;\n",
              "\n",
              "      const channel = await google.colab.kernel.comms.open(id);\n",
              "      // Send a message to notify the kernel that we're ready.\n",
              "      channel.send({})\n",
              "\n",
              "      for await (const message of channel.messages) {\n",
              "        // Send a message to notify the kernel that we're ready.\n",
              "        channel.send({})\n",
              "        if (message.buffers) {\n",
              "          for (const buffer of message.buffers) {\n",
              "            buffers.push(buffer);\n",
              "            downloaded += buffer.byteLength;\n",
              "            progress.value = downloaded;\n",
              "          }\n",
              "        }\n",
              "      }\n",
              "      const blob = new Blob(buffers, {type: 'application/binary'});\n",
              "      const a = document.createElement('a');\n",
              "      a.href = window.URL.createObjectURL(blob);\n",
              "      a.download = filename;\n",
              "      div.appendChild(a);\n",
              "      a.click();\n",
              "      div.remove();\n",
              "    }\n",
              "  "
            ]
          },
          "metadata": {}
        },
        {
          "output_type": "display_data",
          "data": {
            "text/plain": [
              "<IPython.core.display.Javascript object>"
            ],
            "application/javascript": [
              "download(\"download_326193f3-ed9c-4489-a2d2-9ad506f85736\", \"predicciones_finales.csv\", 37781)"
            ]
          },
          "metadata": {}
        }
      ]
    }
  ]
}